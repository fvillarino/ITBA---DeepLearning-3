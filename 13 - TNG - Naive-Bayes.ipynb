{
 "cells": [
  {
   "cell_type": "markdown",
   "metadata": {},
   "source": [
    "# Palabras clave:\n",
    "\n",
    "Bayes, Naive Bayes Multinomial y Gaussiano, Probabilidad, Probabilidad condicional, Likelihood, Verosimilitud, Clasificación, Tokenización, Stemming, Lemmatización, Distribución, Stop Words, NLTK, Count Vectorizer, Vocabulario, sklearn, dataframe, pandas, sparse matrix, NLP."
   ]
  },
  {
   "cell_type": "markdown",
   "metadata": {},
   "source": [
    "# Naive Bayes\n",
    "\n",
    "En el reciente caso las probabilidades de ocurrencia de H o T quedaban multiplicadas ya que se asume independencia entre una tirada y otra de la moneda.\n",
    "Naive Bayes es una técnica estadística que consiste en repetir el método anterior en problemas cuyos sucesos no son independientes, pero suponiendo independencia.\n",
    "Pongamos como ejemplo la clasificación de artículos periodísticos. En este caso podríamos estimar la probabilidad de ocurrencia de cada palabra según la categoría a la que pertenece el artículo.\n",
    "\n",
    "Veamos un ejemplo concreto"
   ]
  },
  {
   "cell_type": "code",
   "execution_count": 13,
   "metadata": {},
   "outputs": [],
   "source": [
    "#Loading the data set - training data.\n",
    "from sklearn.datasets import fetch_20newsgroups\n",
    "twenty_train = fetch_20newsgroups(subset='train', shuffle=True)"
   ]
  },
  {
   "cell_type": "code",
   "execution_count": 14,
   "metadata": {},
   "outputs": [
    {
     "data": {
      "text/plain": [
       "dict_keys(['data', 'filenames', 'target_names', 'target', 'DESCR'])"
      ]
     },
     "execution_count": 14,
     "metadata": {},
     "output_type": "execute_result"
    }
   ],
   "source": [
    "twenty_train.keys()"
   ]
  },
  {
   "cell_type": "code",
   "execution_count": 83,
   "metadata": {},
   "outputs": [
    {
     "data": {
      "text/plain": [
       "11314"
      ]
     },
     "execution_count": 83,
     "metadata": {},
     "output_type": "execute_result"
    }
   ],
   "source": [
    "len(twenty_train.data) #Cantidad de artículos periodísticos"
   ]
  },
  {
   "cell_type": "code",
   "execution_count": 84,
   "metadata": {},
   "outputs": [
    {
     "data": {
      "text/plain": [
       "11314"
      ]
     },
     "execution_count": 84,
     "metadata": {},
     "output_type": "execute_result"
    }
   ],
   "source": [
    "len(twenty_train[\"target\"]) #Cantidad de clasificaciones. Debería coincidir con la cantidad de artículos"
   ]
  },
  {
   "cell_type": "code",
   "execution_count": 85,
   "metadata": {},
   "outputs": [
    {
     "data": {
      "text/plain": [
       "array([7, 4, 4, ..., 3, 1, 8])"
      ]
     },
     "execution_count": 85,
     "metadata": {},
     "output_type": "execute_result"
    }
   ],
   "source": [
    "twenty_train[\"target\"] #Clasificaciones de los artículos"
   ]
  },
  {
   "cell_type": "code",
   "execution_count": 18,
   "metadata": {},
   "outputs": [
    {
     "data": {
      "text/plain": [
       "['alt.atheism',\n",
       " 'comp.graphics',\n",
       " 'comp.os.ms-windows.misc',\n",
       " 'comp.sys.ibm.pc.hardware',\n",
       " 'comp.sys.mac.hardware',\n",
       " 'comp.windows.x',\n",
       " 'misc.forsale',\n",
       " 'rec.autos',\n",
       " 'rec.motorcycles',\n",
       " 'rec.sport.baseball',\n",
       " 'rec.sport.hockey',\n",
       " 'sci.crypt',\n",
       " 'sci.electronics',\n",
       " 'sci.med',\n",
       " 'sci.space',\n",
       " 'soc.religion.christian',\n",
       " 'talk.politics.guns',\n",
       " 'talk.politics.mideast',\n",
       " 'talk.politics.misc',\n",
       " 'talk.religion.misc']"
      ]
     },
     "execution_count": 18,
     "metadata": {},
     "output_type": "execute_result"
    }
   ],
   "source": [
    "twenty_train[\"target_names\"] #Referencia de las clasificaciones. "
   ]
  },
  {
   "cell_type": "code",
   "execution_count": 19,
   "metadata": {},
   "outputs": [
    {
     "data": {
      "text/plain": [
       "20"
      ]
     },
     "execution_count": 19,
     "metadata": {},
     "output_type": "execute_result"
    }
   ],
   "source": [
    "len(twenty_train[\"target_names\"]) #Cantidad de categorías"
   ]
  },
  {
   "cell_type": "code",
   "execution_count": 20,
   "metadata": {},
   "outputs": [
    {
     "data": {
      "text/plain": [
       "\"From: lerxst@wam.umd.edu (where's my thing)\\nSubject: WHAT car is this!?\\nNntp-Posting-Host: rac3.wam.umd.edu\\nOrganization: University of Maryland, College Park\\nLines: 15\\n\\n I was wondering if anyone out there could enlighten me on this car I saw\\nthe other day. It was a 2-door sports car, looked to be from the late 60s/\\nearly 70s. It was called a Bricklin. The doors were really small. In addition,\\nthe front bumper was separate from the rest of the body. This is \\nall I know. If anyone can tellme a model name, engine specs, years\\nof production, where this car is made, history, or whatever info you\\nhave on this funky looking car, please e-mail.\\n\\nThanks,\\n- IL\\n   ---- brought to you by your neighborhood Lerxst ----\\n\\n\\n\\n\\n\""
      ]
     },
     "execution_count": 20,
     "metadata": {},
     "output_type": "execute_result"
    }
   ],
   "source": [
    "twenty_train.data[0] # Primer artículo"
   ]
  },
  {
   "cell_type": "code",
   "execution_count": 154,
   "metadata": {},
   "outputs": [
    {
     "data": {
      "text/plain": [
       "14"
      ]
     },
     "execution_count": 154,
     "metadata": {},
     "output_type": "execute_result"
    }
   ],
   "source": [
    "twenty_train.target[4] #Código de clasificación del primer artículo"
   ]
  },
  {
   "cell_type": "code",
   "execution_count": 22,
   "metadata": {},
   "outputs": [
    {
     "data": {
      "text/plain": [
       "'rec.autos'"
      ]
     },
     "execution_count": 22,
     "metadata": {},
     "output_type": "execute_result"
    }
   ],
   "source": [
    "twenty_train.target_names[7] #Clasificación del primer artículo"
   ]
  },
  {
   "cell_type": "markdown",
   "metadata": {},
   "source": [
    "En resumen, tenemos un dataset que contiene 11314 artículos periodísticos, clasificados en 20 tipos.\n",
    "Ahora vamos a armar un bag of words y a filtrar un poco el vocabulario.\n",
    "\n",
    "Vamos a aplicar el siguiente procesamiento:\n",
    "\n",
    "- Tokenization (nltk)\n",
    "- Lemmatization (nltk)\n",
    "- Stop Words (nltk)\n",
    "- Stemming (nltk)\n",
    "- Filtrado de palabras\n",
    "- Obtención del vocabulario (countvectorizer)\n",
    "- Estimación de la probabilidad de ocurrencia de cada palabra para cada categoría\n",
    "- Estimación de la probabilidad de cada categoría\n",
    "\n",
    "Mas info en:\n",
    "http://text-processing.com/demo/stem/"
   ]
  },
  {
   "cell_type": "code",
   "execution_count": 23,
   "metadata": {
    "scrolled": true
   },
   "outputs": [
    {
     "name": "stderr",
     "output_type": "stream",
     "text": [
      "[nltk_data] Downloading package wordnet to\n",
      "[nltk_data]     /Users/fvillarino/nltk_data...\n",
      "[nltk_data]   Unzipping corpora/wordnet.zip.\n",
      "[nltk_data] Downloading package punkt to\n",
      "[nltk_data]     /Users/fvillarino/nltk_data...\n",
      "[nltk_data]   Unzipping tokenizers/punkt.zip.\n",
      "[nltk_data] Downloading package stopwords to\n",
      "[nltk_data]     /Users/fvillarino/nltk_data...\n",
      "[nltk_data]   Unzipping corpora/stopwords.zip.\n"
     ]
    },
    {
     "name": "stdout",
     "output_type": "stream",
     "text": [
      "\n",
      "Artículo tokenizado:\n",
      "['From', ':', 'lerxst', '@', 'wam.umd.edu', '(', 'where', \"'s\", 'my', 'thing', ')', 'Subject', ':', 'WHAT', 'car', 'is', 'this', '!', '?', 'Nntp-Posting-Host', ':', 'rac3.wam.umd.edu', 'Organization', ':', 'University', 'of', 'Maryland', ',', 'College', 'Park', 'Lines', ':', '15', 'I', 'was', 'wondering', 'if', 'anyone', 'out', 'there', 'could', 'enlighten', 'me', 'on', 'this', 'car', 'I', 'saw', 'the', 'other', 'day', '.', 'It', 'was', 'a', '2-door', 'sports', 'car', ',', 'looked', 'to', 'be', 'from', 'the', 'late', '60s/', 'early', '70s', '.', 'It', 'was', 'called', 'a', 'Bricklin', '.', 'The', 'doors', 'were', 'really', 'small', '.', 'In', 'addition', ',', 'the', 'front', 'bumper', 'was', 'separate', 'from', 'the', 'rest', 'of', 'the', 'body', '.', 'This', 'is', 'all', 'I', 'know', '.', 'If', 'anyone', 'can', 'tellme', 'a', 'model', 'name', ',', 'engine', 'specs', ',', 'years', 'of', 'production', ',', 'where', 'this', 'car', 'is', 'made', ',', 'history', ',', 'or', 'whatever', 'info', 'you', 'have', 'on', 'this', 'funky', 'looking', 'car', ',', 'please', 'e-mail', '.', 'Thanks', ',', '-', 'IL', '--', '--', 'brought', 'to', 'you', 'by', 'your', 'neighborhood', 'Lerxst', '--', '--']\n",
      "\n",
      "Lematización\n",
      "['From', ':', 'lerxst', '@', 'wam.umd.edu', '(', 'where', \"'s\", 'my', 'thing', ')', 'Subject', ':', 'WHAT', 'car', 'be', 'this', '!', '?', 'Nntp-Posting-Host', ':', 'rac3.wam.umd.edu', 'Organization', ':', 'University', 'of', 'Maryland', ',', 'College', 'Park', 'Lines', ':', '15', 'I', 'be', 'wonder', 'if', 'anyone', 'out', 'there', 'could', 'enlighten', 'me', 'on', 'this', 'car', 'I', 'saw', 'the', 'other', 'day', '.', 'It', 'be', 'a', '2-door', 'sport', 'car', ',', 'look', 'to', 'be', 'from', 'the', 'late', '60s/', 'early', '70s', '.', 'It', 'be', 'call', 'a', 'Bricklin', '.', 'The', 'doors', 'be', 'really', 'small', '.', 'In', 'addition', ',', 'the', 'front', 'bumper', 'be', 'separate', 'from', 'the', 'rest', 'of', 'the', 'body', '.', 'This', 'be', 'all', 'I', 'know', '.', 'If', 'anyone', 'can', 'tellme', 'a', 'model', 'name', ',', 'engine', 'specs', ',', 'years', 'of', 'production', ',', 'where', 'this', 'car', 'be', 'make', ',', 'history', ',', 'or', 'whatever', 'info', 'you', 'have', 'on', 'this', 'funky', 'look', 'car', ',', 'please', 'e-mail', '.', 'Thanks', ',', '-', 'IL', '--', '--', 'bring', 'to', 'you', 'by', 'your', 'neighborhood', 'Lerxst', '--', '--']\n",
      "\n",
      "Eliminando stopwords:\n",
      "['From', ':', 'lerxst', '@', 'wam.umd.edu', '(', \"'s\", 'thing', ')', 'Subject', ':', 'WHAT', 'car', '!', '?', 'Nntp-Posting-Host', ':', 'rac3.wam.umd.edu', 'Organization', ':', 'University', 'Maryland', ',', 'College', 'Park', 'Lines', ':', '15', 'I', 'wonder', 'anyone', 'could', 'enlighten', 'car', 'I', 'saw', 'day', '.', 'It', '2-door', 'sport', 'car', ',', 'look', 'late', '60s/', 'early', '70s', '.', 'It', 'call', 'Bricklin', '.', 'The', 'doors', 'really', 'small', '.', 'In', 'addition', ',', 'front', 'bumper', 'separate', 'rest', 'body', '.', 'This', 'I', 'know', '.', 'If', 'anyone', 'tellme', 'model', 'name', ',', 'engine', 'specs', ',', 'years', 'production', ',', 'car', 'make', ',', 'history', ',', 'whatever', 'info', 'funky', 'look', 'car', ',', 'please', 'e-mail', '.', 'Thanks', ',', '-', 'IL', '--', '--', 'bring', 'neighborhood', 'Lerxst', '--', '--']\n",
      "\n",
      "Aplicando stemming\n",
      "['from', ':', 'lerxst', '@', 'wam.umd.edu', '(', \"'s\", 'thing', ')', 'subject', ':', 'what', 'car', '!', '?', 'nntp-posting-host', ':', 'rac3.wam.umd.edu', 'organ', ':', 'univers', 'maryland', ',', 'colleg', 'park', 'line', ':', '15', 'I', 'wonder', 'anyon', 'could', 'enlighten', 'car', 'I', 'saw', 'day', '.', 'It', '2-door', 'sport', 'car', ',', 'look', 'late', '60s/', 'earli', '70', '.', 'It', 'call', 'bricklin', '.', 'the', 'door', 'realli', 'small', '.', 'In', 'addit', ',', 'front', 'bumper', 'separ', 'rest', 'bodi', '.', 'thi', 'I', 'know', '.', 'If', 'anyon', 'tellm', 'model', 'name', ',', 'engin', 'spec', ',', 'year', 'product', ',', 'car', 'make', ',', 'histori', ',', 'whatev', 'info', 'funki', 'look', 'car', ',', 'pleas', 'e-mail', '.', 'thank', ',', '-', 'IL', '--', '--', 'bring', 'neighborhood', 'lerxst', '--', '--']\n",
      "\n",
      "Filtrando no-palabras:\n",
      "['from', 'lerxst', 'thing', 'subject', 'what', 'car', 'organ', 'univers', 'maryland', 'colleg', 'park', 'line', 'I', 'wonder', 'anyon', 'could', 'enlighten', 'car', 'I', 'saw', 'day', 'It', 'sport', 'car', 'look', 'late', 'earli', 'It', 'call', 'bricklin', 'the', 'door', 'realli', 'small', 'In', 'addit', 'front', 'bumper', 'separ', 'rest', 'bodi', 'thi', 'I', 'know', 'If', 'anyon', 'tellm', 'model', 'name', 'engin', 'spec', 'year', 'product', 'car', 'make', 'histori', 'whatev', 'info', 'funki', 'look', 'car', 'pleas', 'thank', 'IL', 'bring', 'neighborhood', 'lerxst']\n"
     ]
    }
   ],
   "source": [
    "import nltk\n",
    "from nltk.tokenize import word_tokenize\n",
    "from nltk.stem import PorterStemmer, WordNetLemmatizer\n",
    "from nltk.corpus import stopwords\n",
    "nltk.download('wordnet')\n",
    "nltk.download('punkt')\n",
    "nltk.download('stopwords')\n",
    "lemmatizer = WordNetLemmatizer()\n",
    "stemmer = PorterStemmer()\n",
    "#for art in twenty_train.data:\n",
    "art=twenty_train.data[0]\n",
    "tok=word_tokenize(art)\n",
    "print(\"\\nArtículo tokenizado:\")\n",
    "print(tok)\n",
    "lem=[lemmatizer.lemmatize(x,pos='v') for x in tok]\n",
    "print(\"\\nLematización\")\n",
    "print(lem)\n",
    "stop = [x for x in lem if x not in stopwords.words('english')]\n",
    "print(\"\\nEliminando stopwords:\")\n",
    "print(stop)\n",
    "stem=[stemmer.stem(x) for x in stop]\n",
    "print(\"\\nAplicando stemming\")\n",
    "print(stem)\n",
    "alpha=[x for x in stem if x.isalpha()]\n",
    "print(\"\\nFiltrando no-palabras:\")\n",
    "print(alpha)"
   ]
  },
  {
   "cell_type": "code",
   "execution_count": 24,
   "metadata": {
    "collapsed": true,
    "jupyter": {
     "outputs_hidden": true
    }
   },
   "outputs": [
    {
     "name": "stdout",
     "output_type": "stream",
     "text": [
      "0\n",
      "100\n",
      "200\n",
      "300\n",
      "400\n",
      "500\n",
      "600\n",
      "700\n",
      "800\n",
      "900\n",
      "1000\n",
      "1100\n",
      "1200\n",
      "1300\n",
      "1400\n",
      "1500\n",
      "1600\n",
      "1700\n",
      "1800\n",
      "1900\n",
      "2000\n",
      "2100\n",
      "2200\n",
      "2300\n",
      "2400\n",
      "2500\n",
      "2600\n",
      "2700\n",
      "2800\n",
      "2900\n",
      "3000\n",
      "3100\n",
      "3200\n",
      "3300\n",
      "3400\n",
      "3500\n",
      "3600\n",
      "3700\n",
      "3800\n",
      "3900\n",
      "4000\n",
      "4100\n",
      "4200\n",
      "4300\n",
      "4400\n",
      "4500\n",
      "4600\n",
      "4700\n",
      "4800\n",
      "4900\n",
      "5000\n",
      "5100\n",
      "5200\n",
      "5300\n",
      "5400\n",
      "5500\n",
      "5600\n",
      "5700\n",
      "5800\n",
      "5900\n",
      "6000\n",
      "6100\n",
      "6200\n",
      "6300\n",
      "6400\n",
      "6500\n",
      "6600\n",
      "6700\n",
      "6800\n",
      "6900\n",
      "7000\n",
      "7100\n",
      "7200\n",
      "7300\n",
      "7400\n",
      "7500\n",
      "7600\n",
      "7700\n",
      "7800\n",
      "7900\n",
      "8000\n",
      "8100\n",
      "8200\n",
      "8300\n",
      "8400\n",
      "8500\n",
      "8600\n",
      "8700\n",
      "8800\n",
      "8900\n",
      "9000\n",
      "9100\n",
      "9200\n",
      "9300\n",
      "9400\n",
      "9500\n",
      "9600\n",
      "9700\n",
      "9800\n",
      "9900\n",
      "10000\n",
      "10100\n",
      "10200\n",
      "10300\n",
      "10400\n",
      "10500\n",
      "10600\n",
      "10700\n",
      "10800\n",
      "10900\n",
      "11000\n",
      "11100\n",
      "11200\n",
      "11300\n"
     ]
    }
   ],
   "source": [
    "#Procesando todos los artículos:\n",
    "articulos_filtrados=list()\n",
    "for idx in range(len(twenty_train.data)):\n",
    "    if idx%100==0:\n",
    "        print(idx)\n",
    "    art=twenty_train.data[idx]\n",
    "    tok=word_tokenize(art)\n",
    "    lem=[lemmatizer.lemmatize(x,pos='v') for x in tok]\n",
    "    stop = [x for x in lem if x not in stopwords.words('english')]\n",
    "    stem=[stemmer.stem(x) for x in stop]\n",
    "    alpha=[x for x in stem if x.isalpha()]\n",
    "    articulos_filtrados.append(\" \".join(alpha))"
   ]
  },
  {
   "cell_type": "code",
   "execution_count": 25,
   "metadata": {
    "collapsed": true,
    "jupyter": {
     "outputs_hidden": true
    }
   },
   "outputs": [
    {
     "name": "stdout",
     "output_type": "stream",
     "text": [
      "from bmdelan brian man delaney subject brain tumor treatment thank bmdelan organ univers chicago line there peopl respond request info treatment astrocytoma email I could thank directli prob sean debra sharon So I think I publicli thank everyon thank I sure glad I accident hit rn instead rm I tri delet file last septemb hmmm\n"
     ]
    }
   ],
   "source": [
    "print(articulos_filtrados[6])"
   ]
  },
  {
   "cell_type": "code",
   "execution_count": 26,
   "metadata": {},
   "outputs": [],
   "source": [
    "#Salvado del procesamiento a disco:\n",
    "import pickle\n",
    "\n",
    "with open('art_filt.txt', 'wb') as fp:\n",
    "    pickle.dump(articulos_filtrados, fp)"
   ]
  },
  {
   "cell_type": "code",
   "execution_count": 27,
   "metadata": {},
   "outputs": [],
   "source": [
    "with open ('art_filt.txt', 'rb') as fp:\n",
    "    itemlist = pickle.load(fp)"
   ]
  },
  {
   "cell_type": "code",
   "execution_count": 28,
   "metadata": {},
   "outputs": [
    {
     "name": "stdout",
     "output_type": "stream",
     "text": [
      "from ab allen B subject Re tiff philosoph signific organ purdu univers line In articl prestonm martin preston write whi use PD C librari tiff file It take good minut start use app I certainli use whenev I tiff usual work well that point I philosoph oppos complex thi complex lead program poor tiff writer make bizarr file program inabl load tiff imag though save cours gener inabl interchang imag differ environ despit fact think understand tiff As say go It I worri asshol I big troubl misus abus tiff year I chalk immens unnecessari complex format In word tiff spec appendix G page capit emphasi mine the problem sort success tiff design power flexibl expens simplic It take fair amount effort handl option current defin specif probabl NO applic doe A complet job current way sure abl import tiff imag sinc mani applic If program wors applic ca read everi tiff imag mean I might deal whi would I want imag trap format I neither anyon agre anyon cours ab\n"
     ]
    }
   ],
   "source": [
    "print(itemlist[16])"
   ]
  },
  {
   "cell_type": "code",
   "execution_count": 92,
   "metadata": {},
   "outputs": [
    {
     "data": {
      "text/plain": [
       "CountVectorizer(max_df=0.8, min_df=10)"
      ]
     },
     "execution_count": 92,
     "metadata": {},
     "output_type": "execute_result"
    }
   ],
   "source": [
    "# Extracting features from articles\n",
    "from sklearn.feature_extraction.text import CountVectorizer,TfidfVectorizer\n",
    "count_vect = CountVectorizer(max_df=0.8,min_df=10)\n",
    "#count_vect = TfidfVectorizer(max_df=0.8,min_df=10)\n",
    "count_vect.fit(itemlist) #Aprende el vocabulario y le asigna un código a cada palabra"
   ]
  },
  {
   "cell_type": "code",
   "execution_count": 61,
   "metadata": {},
   "outputs": [],
   "source": [
    "#count_vect.vocabulary_ #Estos son los índices de cada una de las palabras"
   ]
  },
  {
   "cell_type": "code",
   "execution_count": 93,
   "metadata": {},
   "outputs": [],
   "source": [
    "vocabulary=count_vect.get_feature_names() #Estos nombres de las palabras seleccionadas para el vocabulario, ordenadas por orden alfabético\n",
    "#print(vocabulary)"
   ]
  },
  {
   "cell_type": "code",
   "execution_count": 63,
   "metadata": {},
   "outputs": [
    {
     "name": "stdout",
     "output_type": "stream",
     "text": [
      "bank\n",
      "641\n"
     ]
    }
   ],
   "source": [
    "print(vocabulary[641])\n",
    "print(count_vect.vocabulary_[\"bank\"])"
   ]
  },
  {
   "cell_type": "code",
   "execution_count": 94,
   "metadata": {},
   "outputs": [],
   "source": [
    "count_vect = CountVectorizer(max_df=0.8,min_df=100)\n",
    "X_train_data=count_vect.fit_transform(articulos_filtrados) #Aprende el vocabulario y le asigna un código a cada palabra"
   ]
  },
  {
   "cell_type": "code",
   "execution_count": 65,
   "metadata": {},
   "outputs": [
    {
     "data": {
      "text/plain": [
       "(11314, 1930)"
      ]
     },
     "execution_count": 65,
     "metadata": {},
     "output_type": "execute_result"
    }
   ],
   "source": [
    "X_train_data.shape #Para cada documento hay un vector de ocurrencias"
   ]
  },
  {
   "cell_type": "code",
   "execution_count": 66,
   "metadata": {
    "scrolled": true
   },
   "outputs": [
    {
     "data": {
      "text/plain": [
       "array([[0, 0, 0, ..., 0, 0, 0],\n",
       "       [0, 0, 0, ..., 0, 0, 0],\n",
       "       [0, 0, 0, ..., 0, 0, 0],\n",
       "       ...,\n",
       "       [0, 0, 0, ..., 0, 0, 0],\n",
       "       [0, 0, 0, ..., 0, 0, 0],\n",
       "       [0, 0, 0, ..., 0, 0, 0]])"
      ]
     },
     "execution_count": 66,
     "metadata": {},
     "output_type": "execute_result"
    }
   ],
   "source": [
    "X_train_data.toarray() #Es una sparse matrix, vamos a expandirla"
   ]
  },
  {
   "cell_type": "code",
   "execution_count": 67,
   "metadata": {},
   "outputs": [
    {
     "data": {
      "text/plain": [
       "264"
      ]
     },
     "execution_count": 67,
     "metadata": {},
     "output_type": "execute_result"
    }
   ],
   "source": [
    "X_train_data.toarray()[0,:].argmax() #Veamos a qué palabra pertenece la máxima ocurrencia en el primer artíclo"
   ]
  },
  {
   "cell_type": "code",
   "execution_count": 68,
   "metadata": {},
   "outputs": [
    {
     "data": {
      "text/plain": [
       "264"
      ]
     },
     "execution_count": 68,
     "metadata": {},
     "output_type": "execute_result"
    }
   ],
   "source": [
    "count_vect.vocabulary_[\"car\"] #La máxima ocurrencia pertenece a \"car\""
   ]
  },
  {
   "cell_type": "code",
   "execution_count": 69,
   "metadata": {},
   "outputs": [],
   "source": [
    "import pandas as pd"
   ]
  },
  {
   "cell_type": "code",
   "execution_count": 70,
   "metadata": {},
   "outputs": [],
   "source": [
    "alpha=1.0\n",
    "columns=count_vect.get_feature_names()\n",
    "df=pd.DataFrame(X_train_data.toarray(), columns=columns) # Se suma alpha a un artículo para que el log-likelihood no de -inf"
   ]
  },
  {
   "cell_type": "code",
   "execution_count": 98,
   "metadata": {},
   "outputs": [
    {
     "data": {
      "text/plain": [
       "abil        0\n",
       "abl         0\n",
       "about       0\n",
       "absolut     0\n",
       "abus        0\n",
       "           ..\n",
       "you         2\n",
       "young       0\n",
       "your        0\n",
       "zero        0\n",
       "target_    16\n",
       "Name: 5, Length: 1931, dtype: int64"
      ]
     },
     "execution_count": 98,
     "metadata": {},
     "output_type": "execute_result"
    }
   ],
   "source": [
    "df.loc[5,:]"
   ]
  },
  {
   "cell_type": "code",
   "execution_count": 107,
   "metadata": {},
   "outputs": [
    {
     "data": {
      "text/plain": [
       "'talk.politics.guns'"
      ]
     },
     "execution_count": 107,
     "metadata": {},
     "output_type": "execute_result"
    }
   ],
   "source": [
    "twenty_train.target_names[16]"
   ]
  },
  {
   "cell_type": "code",
   "execution_count": 72,
   "metadata": {},
   "outputs": [],
   "source": [
    "df[\"target_\"]=twenty_train.target"
   ]
  },
  {
   "cell_type": "code",
   "execution_count": 73,
   "metadata": {},
   "outputs": [
    {
     "data": {
      "text/html": [
       "<div>\n",
       "<style scoped>\n",
       "    .dataframe tbody tr th:only-of-type {\n",
       "        vertical-align: middle;\n",
       "    }\n",
       "\n",
       "    .dataframe tbody tr th {\n",
       "        vertical-align: top;\n",
       "    }\n",
       "\n",
       "    .dataframe thead th {\n",
       "        text-align: right;\n",
       "    }\n",
       "</style>\n",
       "<table border=\"1\" class=\"dataframe\">\n",
       "  <thead>\n",
       "    <tr style=\"text-align: right;\">\n",
       "      <th></th>\n",
       "      <th>abil</th>\n",
       "      <th>abl</th>\n",
       "      <th>about</th>\n",
       "      <th>absolut</th>\n",
       "      <th>abus</th>\n",
       "      <th>academ</th>\n",
       "      <th>acceler</th>\n",
       "      <th>accept</th>\n",
       "      <th>access</th>\n",
       "      <th>accid</th>\n",
       "      <th>...</th>\n",
       "      <th>yeah</th>\n",
       "      <th>year</th>\n",
       "      <th>yesterday</th>\n",
       "      <th>yet</th>\n",
       "      <th>york</th>\n",
       "      <th>you</th>\n",
       "      <th>young</th>\n",
       "      <th>your</th>\n",
       "      <th>zero</th>\n",
       "      <th>target_</th>\n",
       "    </tr>\n",
       "  </thead>\n",
       "  <tbody>\n",
       "    <tr>\n",
       "      <th>0</th>\n",
       "      <td>0</td>\n",
       "      <td>0</td>\n",
       "      <td>0</td>\n",
       "      <td>0</td>\n",
       "      <td>0</td>\n",
       "      <td>0</td>\n",
       "      <td>0</td>\n",
       "      <td>0</td>\n",
       "      <td>0</td>\n",
       "      <td>0</td>\n",
       "      <td>...</td>\n",
       "      <td>0</td>\n",
       "      <td>1</td>\n",
       "      <td>0</td>\n",
       "      <td>0</td>\n",
       "      <td>0</td>\n",
       "      <td>0</td>\n",
       "      <td>0</td>\n",
       "      <td>0</td>\n",
       "      <td>0</td>\n",
       "      <td>7</td>\n",
       "    </tr>\n",
       "    <tr>\n",
       "      <th>1</th>\n",
       "      <td>0</td>\n",
       "      <td>0</td>\n",
       "      <td>0</td>\n",
       "      <td>0</td>\n",
       "      <td>0</td>\n",
       "      <td>0</td>\n",
       "      <td>1</td>\n",
       "      <td>0</td>\n",
       "      <td>0</td>\n",
       "      <td>0</td>\n",
       "      <td>...</td>\n",
       "      <td>0</td>\n",
       "      <td>0</td>\n",
       "      <td>0</td>\n",
       "      <td>0</td>\n",
       "      <td>0</td>\n",
       "      <td>0</td>\n",
       "      <td>0</td>\n",
       "      <td>0</td>\n",
       "      <td>0</td>\n",
       "      <td>4</td>\n",
       "    </tr>\n",
       "    <tr>\n",
       "      <th>2</th>\n",
       "      <td>0</td>\n",
       "      <td>0</td>\n",
       "      <td>0</td>\n",
       "      <td>0</td>\n",
       "      <td>0</td>\n",
       "      <td>0</td>\n",
       "      <td>0</td>\n",
       "      <td>0</td>\n",
       "      <td>1</td>\n",
       "      <td>0</td>\n",
       "      <td>...</td>\n",
       "      <td>0</td>\n",
       "      <td>0</td>\n",
       "      <td>0</td>\n",
       "      <td>0</td>\n",
       "      <td>0</td>\n",
       "      <td>0</td>\n",
       "      <td>0</td>\n",
       "      <td>0</td>\n",
       "      <td>0</td>\n",
       "      <td>4</td>\n",
       "    </tr>\n",
       "    <tr>\n",
       "      <th>3</th>\n",
       "      <td>0</td>\n",
       "      <td>0</td>\n",
       "      <td>0</td>\n",
       "      <td>0</td>\n",
       "      <td>0</td>\n",
       "      <td>0</td>\n",
       "      <td>0</td>\n",
       "      <td>0</td>\n",
       "      <td>0</td>\n",
       "      <td>0</td>\n",
       "      <td>...</td>\n",
       "      <td>0</td>\n",
       "      <td>0</td>\n",
       "      <td>0</td>\n",
       "      <td>0</td>\n",
       "      <td>0</td>\n",
       "      <td>0</td>\n",
       "      <td>0</td>\n",
       "      <td>0</td>\n",
       "      <td>0</td>\n",
       "      <td>1</td>\n",
       "    </tr>\n",
       "    <tr>\n",
       "      <th>4</th>\n",
       "      <td>0</td>\n",
       "      <td>0</td>\n",
       "      <td>0</td>\n",
       "      <td>0</td>\n",
       "      <td>0</td>\n",
       "      <td>0</td>\n",
       "      <td>0</td>\n",
       "      <td>0</td>\n",
       "      <td>0</td>\n",
       "      <td>0</td>\n",
       "      <td>...</td>\n",
       "      <td>0</td>\n",
       "      <td>0</td>\n",
       "      <td>0</td>\n",
       "      <td>1</td>\n",
       "      <td>0</td>\n",
       "      <td>0</td>\n",
       "      <td>0</td>\n",
       "      <td>0</td>\n",
       "      <td>0</td>\n",
       "      <td>14</td>\n",
       "    </tr>\n",
       "  </tbody>\n",
       "</table>\n",
       "<p>5 rows × 1931 columns</p>\n",
       "</div>"
      ],
      "text/plain": [
       "   abil  abl  about  absolut  abus  academ  acceler  accept  access  accid  \\\n",
       "0     0    0      0        0     0       0        0       0       0      0   \n",
       "1     0    0      0        0     0       0        1       0       0      0   \n",
       "2     0    0      0        0     0       0        0       0       1      0   \n",
       "3     0    0      0        0     0       0        0       0       0      0   \n",
       "4     0    0      0        0     0       0        0       0       0      0   \n",
       "\n",
       "   ...  yeah  year  yesterday  yet  york  you  young  your  zero  target_  \n",
       "0  ...     0     1          0    0     0    0      0     0     0        7  \n",
       "1  ...     0     0          0    0     0    0      0     0     0        4  \n",
       "2  ...     0     0          0    0     0    0      0     0     0        4  \n",
       "3  ...     0     0          0    0     0    0      0     0     0        1  \n",
       "4  ...     0     0          0    1     0    0      0     0     0       14  \n",
       "\n",
       "[5 rows x 1931 columns]"
      ]
     },
     "execution_count": 73,
     "metadata": {},
     "output_type": "execute_result"
    }
   ],
   "source": [
    "df.head()"
   ]
  },
  {
   "cell_type": "code",
   "execution_count": 74,
   "metadata": {
    "collapsed": true,
    "jupyter": {
     "outputs_hidden": true
    }
   },
   "outputs": [
    {
     "name": "stdout",
     "output_type": "stream",
     "text": [
      "Cantidad de palabras en el vocabulario:\n",
      "1930\n",
      "El vector de ocurrencias para la categoría 0 cuyo largo es 1930 es:\n",
      "[26. 51.  3. ... 23. 63.  4.]\n",
      "\n",
      "Log-probabilidad de ocurrencia de cada palabra en el vocabulario, para la categoría:alt.atheism\n",
      "[3.86571114e-04 7.58274109e-04 4.46043593e-05 ... 3.41966755e-04\n",
      " 9.36691546e-04 5.94724791e-05]\n",
      "\n",
      "Log-probabilidad de ocurrencia de la categoría: alt.atheism\n",
      "0.04242531377054976\n",
      "El vector de ocurrencias para la categoría 1 cuyo largo es 1930 es:\n",
      "[ 9. 62.  5. ...  9. 28.  5.]\n",
      "\n",
      "Log-probabilidad de ocurrencia de cada palabra en el vocabulario, para la categoría:comp.graphics\n",
      "[1.73574280e-04 1.19573393e-03 9.64301556e-05 ... 1.73574280e-04\n",
      " 5.40008872e-04 9.64301556e-05]\n",
      "\n",
      "Log-probabilidad de ocurrencia de la categoría: comp.graphics\n",
      "0.05161746508750221\n",
      "El vector de ocurrencias para la categoría 2 cuyo largo es 1930 es:\n",
      "[13. 41.  8. ...  6. 27.  5.]\n",
      "\n",
      "Log-probabilidad de ocurrencia de cada palabra en el vocabulario, para la categoría:comp.os.ms-windows.misc\n",
      "[0.00027061 0.00085346 0.00016653 ... 0.0001249  0.00056203 0.00010408]\n",
      "\n",
      "Log-probabilidad de ocurrencia de la categoría: comp.os.ms-windows.misc\n",
      "0.0522361675799894\n",
      "El vector de ocurrencias para la categoría 3 cuyo largo es 1930 es:\n",
      "[12. 68.  4. ...  4. 17.  7.]\n",
      "\n",
      "Log-probabilidad de ocurrencia de cada palabra en el vocabulario, para la categoría:comp.sys.ibm.pc.hardware\n",
      "[2.42703719e-04 1.37532108e-03 8.09012398e-05 ... 8.09012398e-05\n",
      " 3.43830269e-04 1.41577170e-04]\n",
      "\n",
      "Log-probabilidad de ocurrencia de la categoría: comp.sys.ibm.pc.hardware\n",
      "0.05214778150963408\n",
      "El vector de ocurrencias para la categoría 4 cuyo largo es 1930 es:\n",
      "[ 8. 61. 12. ...  7. 12.  4.]\n",
      "\n",
      "Log-probabilidad de ocurrencia de cada palabra en el vocabulario, para la categoría:comp.sys.mac.hardware\n",
      "[1.83899591e-04 1.40223438e-03 2.75849386e-04 ... 1.60912142e-04\n",
      " 2.75849386e-04 9.19497954e-05]\n",
      "\n",
      "Log-probabilidad de ocurrencia de la categoría: comp.sys.mac.hardware\n",
      "0.05108714866537034\n",
      "El vector de ocurrencias para la categoría 5 cuyo largo es 1930 es:\n",
      "[14. 55.  6. ... 22. 28. 11.]\n",
      "\n",
      "Log-probabilidad de ocurrencia de cada palabra en el vocabulario, para la categoría:comp.windows.x\n",
      "[2.08867936e-04 8.20552605e-04 8.95148296e-05 ... 3.28221042e-04\n",
      " 4.17735872e-04 1.64110521e-04]\n",
      "\n",
      "Log-probabilidad de ocurrencia de la categoría: comp.windows.x\n",
      "0.05241293972070002\n",
      "El vector de ocurrencias para la categoría 6 cuyo largo es 1930 es:\n",
      "[ 5. 12.  7. ...  9. 22.  3.]\n",
      "\n",
      "Log-probabilidad de ocurrencia de cada palabra en el vocabulario, para la categoría:misc.forsale\n",
      "[1.47684310e-04 3.54442344e-04 2.06758034e-04 ... 2.65831758e-04\n",
      " 6.49810964e-04 8.86105860e-05]\n",
      "\n",
      "Log-probabilidad de ocurrencia de la categoría: misc.forsale\n",
      "0.05170585115785752\n",
      "El vector de ocurrencias para la categoría 7 cuyo largo es 1930 es:\n",
      "[ 8. 32. 12. ... 11. 30.  3.]\n",
      "\n",
      "Log-probabilidad de ocurrencia de cada palabra en el vocabulario, para la categoría:rec.autos\n",
      "[1.52427406e-04 6.09709626e-04 2.28641110e-04 ... 2.09587684e-04\n",
      " 5.71602774e-04 5.71602774e-05]\n",
      "\n",
      "Log-probabilidad de ocurrencia de la categoría: rec.autos\n",
      "0.05250132579105533\n",
      "El vector de ocurrencias para la categoría 8 cuyo largo es 1930 es:\n",
      "[16. 25.  6. ...  9. 33. 14.]\n",
      "\n",
      "Log-probabilidad de ocurrencia de cada palabra en el vocabulario, para la categoría:rec.motorcycles\n",
      "[0.00034118 0.00053309 0.00012794 ... 0.00019191 0.00070368 0.00029853]\n",
      "\n",
      "Log-probabilidad de ocurrencia de la categoría: rec.motorcycles\n",
      "0.05285487007247658\n",
      "El vector de ocurrencias para la categoría 9 cuyo largo es 1930 es:\n",
      "[37. 40. 11. ... 86. 10.  7.]\n",
      "\n",
      "Log-probabilidad de ocurrencia de cada palabra en el vocabulario, para la categoría:rec.sport.baseball\n",
      "[0.00073046 0.00078969 0.00021716 ... 0.00169783 0.00019742 0.0001382 ]\n",
      "\n",
      "Log-probabilidad de ocurrencia de la categoría: rec.sport.baseball\n",
      "0.052766484002121264\n",
      "El vector de ocurrencias para la categoría 10 cuyo largo es 1930 es:\n",
      "[14. 45.  9. ... 34. 10.  5.]\n",
      "\n",
      "Log-probabilidad de ocurrencia de cada palabra en el vocabulario, para la categoría:rec.sport.hockey\n",
      "[2.24968263e-04 7.23112275e-04 1.44622455e-04 ... 5.46351497e-04\n",
      " 1.60691617e-04 8.03458084e-05]\n",
      "\n",
      "Log-probabilidad de ocurrencia de la categoría: rec.sport.hockey\n",
      "0.0530316422131872\n",
      "El vector de ocurrencias para la categoría 11 cuyo largo es 1930 es:\n",
      "[49. 88. 16. ...  4. 20. 13.]\n",
      "\n",
      "Log-probabilidad de ocurrencia de cada palabra en el vocabulario, para la categoría:sci.crypt\n",
      "[5.04483728e-04 9.06011593e-04 1.64729381e-04 ... 4.11823451e-05\n",
      " 2.05911726e-04 1.33842622e-04]\n",
      "\n",
      "Log-probabilidad de ocurrencia de la categoría: sci.crypt\n",
      "0.05258971186141064\n",
      "El vector de ocurrencias para la categoría 12 cuyo largo es 1930 es:\n",
      "[ 6. 52.  3. ...  4. 14. 22.]\n",
      "\n",
      "Log-probabilidad de ocurrencia de cada palabra en el vocabulario, para la categoría:sci.electronics\n",
      "[1.22571551e-04 1.06228678e-03 6.12857756e-05 ... 8.17143674e-05\n",
      " 2.86000286e-04 4.49429021e-04]\n",
      "\n",
      "Log-probabilidad de ocurrencia de la categoría: sci.electronics\n",
      "0.0522361675799894\n",
      "El vector de ocurrencias para la categoría 13 cuyo largo es 1930 es:\n",
      "[13. 51. 11. ... 47. 20.  3.]\n",
      "\n",
      "Log-probabilidad de ocurrencia de cada palabra en el vocabulario, para la categoría:sci.med\n",
      "[1.92410159e-04 7.54839856e-04 1.62808596e-04 ... 6.95636730e-04\n",
      " 2.96015630e-04 4.44023444e-05]\n",
      "\n",
      "Log-probabilidad de ocurrencia de la categoría: sci.med\n",
      "0.05250132579105533\n",
      "El vector de ocurrencias para la categoría 14 cuyo largo es 1930 es:\n",
      "[ 8. 56.  6. ... 17. 16. 16.]\n",
      "\n",
      "Log-probabilidad de ocurrencia de cada palabra en el vocabulario, para la categoría:sci.space\n",
      "[1.13203809e-04 7.92426665e-04 8.49028570e-05 ... 2.40558095e-04\n",
      " 2.26407619e-04 2.26407619e-04]\n",
      "\n",
      "Log-probabilidad de ocurrencia de la categoría: sci.space\n",
      "0.05241293972070002\n",
      "El vector de ocurrencias para la categoría 15 cuyo largo es 1930 es:\n",
      "[32. 65. 10. ... 29. 44.  1.]\n",
      "\n",
      "Log-probabilidad de ocurrencia de cada palabra en el vocabulario, para la categoría:soc.religion.christian\n",
      "[3.66082460e-04 7.43604997e-04 1.14400769e-04 ... 3.31762229e-04\n",
      " 5.03363383e-04 1.14400769e-05]\n",
      "\n",
      "Log-probabilidad de ocurrencia de la categoría: soc.religion.christian\n",
      "0.052943256142831886\n",
      "El vector de ocurrencias para la categoría 16 cuyo largo es 1930 es:\n",
      "[17. 63.  8. ... 14. 44.  8.]\n",
      "\n",
      "Log-probabilidad de ocurrencia de cada palabra en el vocabulario, para la categoría:talk.politics.guns\n",
      "[2.05323929e-04 7.60906324e-04 9.66230253e-05 ... 1.69090294e-04\n",
      " 5.31426639e-04 9.66230253e-05]\n",
      "\n",
      "Log-probabilidad de ocurrencia de la categoría: talk.politics.guns\n",
      "0.048258794414000356\n",
      "El vector de ocurrencias para la categoría 17 cuyo largo es 1930 es:\n",
      "[10. 80. 20. ... 81. 76.  7.]\n",
      "\n",
      "Log-probabilidad de ocurrencia de cada palabra en el vocabulario, para la categoría:talk.politics.mideast\n",
      "[9.20606864e-05 7.36485491e-04 1.84121373e-04 ... 7.45691560e-04\n",
      " 6.99661217e-04 6.44424805e-05]\n",
      "\n",
      "Log-probabilidad de ocurrencia de la categoría: talk.politics.mideast\n",
      "0.04984974368039597\n",
      "El vector de ocurrencias para la categoría 18 cuyo largo es 1930 es:\n",
      "[11. 61.  9. ... 77. 40.  4.]\n",
      "\n",
      "Log-probabilidad de ocurrencia de cada palabra en el vocabulario, para la categoría:talk.politics.misc\n",
      "[1.30689446e-04 7.24732384e-04 1.06927729e-04 ... 9.14826124e-04\n",
      " 4.75234350e-04 4.75234350e-05]\n",
      "\n",
      "Log-probabilidad de ocurrencia de la categoría: talk.politics.misc\n",
      "0.041099522715220084\n",
      "El vector de ocurrencias para la categoría 19 cuyo largo es 1930 es:\n",
      "[ 9. 17.  5. ... 30. 41.  3.]\n",
      "\n",
      "Log-probabilidad de ocurrencia de cada palabra en el vocabulario, para la categoría:talk.religion.misc\n",
      "[1.69414954e-04 3.20006024e-04 9.41194187e-05 ... 5.64716512e-04\n",
      " 7.71779233e-04 5.64716512e-05]\n",
      "\n",
      "Log-probabilidad de ocurrencia de la categoría: talk.religion.misc\n",
      "0.033321548523952624\n"
     ]
    },
    {
     "data": {
      "image/png": "[encoded data removed]",
      "text/plain": [
       "<Figure size 1440x360 with 1 Axes>"
      ]
     },
     "metadata": {
      "needs_background": "light"
     },
     "output_type": "display_data"
    }
   ],
   "source": [
    "import numpy as np\n",
    "from matplotlib import pyplot as plt\n",
    "# Importo el paquete para graficar\n",
    "from matplotlib import pyplot as plt\n",
    "\n",
    "N=20 #Cantidad de categorías a filtrar para calcular las probabilidades condicionales\n",
    "\n",
    "p_priori=list() #Inicializo una lista para guardar los vectores de probabilidad de cada palabra, para cada categoría\n",
    "p_model=list() #Inicializo una lista para guardar la probabilidad de ocurrencia de cada categoría\n",
    "\n",
    "num_arts=df.values.shape[0] #Me quedo con la cantidad de artículos\n",
    "num_cols=df.values.shape[1]-1 #Me quedo con la cantidad de palabras en el vocabulario\n",
    "print(\"Cantidad de palabras en el vocabulario:\")\n",
    "print(num_cols)\n",
    "\n",
    "plt.figure(figsize=(20, 5)) #Inicializo el gráfico sobre el que voy a dibujar todas las distribuciones\n",
    "for i in range(20):\n",
    "    p_aux=sum(df.loc[df['target_'] == i].drop('target_',axis=1).values)+alpha #Sumo las ocurrencias para la categoría i y le sumo a todos los valores alpha, para no tener probabilidad cero\n",
    "    print(\"El vector de ocurrencias para la categoría {} cuyo largo es {} es:\".format(i,len(p_aux)))\n",
    "    print(p_aux)\n",
    "    print(\"\\nLog-probabilidad de ocurrencia de cada palabra en el vocabulario, para la categoría:{}\".format(twenty_train[\"target_names\"][i]))\n",
    "    print(p_aux/sum(p_aux))\n",
    "    p_priori.append(np.log(p_aux/sum(p_aux)))\n",
    "    print(\"\\nLog-probabilidad de ocurrencia de la categoría: {}\".format(twenty_train[\"target_names\"][i]))\n",
    "    print(df.loc[df['target_'] == i].shape[0]/num_arts)\n",
    "    p_model.append(np.log(df.loc[df['target_'] == i].shape[0]/num_arts))\n",
    "     # Tamaño del gráfico\n",
    "    plt.plot(p_priori[-1]) # Grafico\n",
    "    #plt.title(title)\n",
    "plt.show()"
   ]
  },
  {
   "cell_type": "code",
   "execution_count": 76,
   "metadata": {
    "collapsed": true,
    "jupyter": {
     "outputs_hidden": true
    }
   },
   "outputs": [
    {
     "name": "stdout",
     "output_type": "stream",
     "text": [
      "Vamos a calcular los Log-likelihood para cada categoría. Utilizaremos el artículo 56\n",
      "El artículo pertenece a la categoría 7, la cual es rec.autos\n",
      "El log-likelihood para la categoría 0 del artículo 56 es:-1039.3396407622854\n",
      "El log-likelihood para la categoría 1 del artículo 56 es:-1002.1200224289323\n",
      "El log-likelihood para la categoría 2 del artículo 56 es:-1004.1325589535041\n",
      "El log-likelihood para la categoría 3 del artículo 56 es:-988.7878911952585\n",
      "El log-likelihood para la categoría 4 del artículo 56 es:-1001.4386690021689\n",
      "El log-likelihood para la categoría 5 del artículo 56 es:-1032.0723413610922\n",
      "El log-likelihood para la categoría 6 del artículo 56 es:-1009.779630206355\n",
      "El log-likelihood para la categoría 7 del artículo 56 es:-927.2881339030977\n",
      "El log-likelihood para la categoría 8 del artículo 56 es:-983.3287967086139\n",
      "El log-likelihood para la categoría 9 del artículo 56 es:-1048.306281779206\n",
      "El log-likelihood para la categoría 10 del artículo 56 es:-1041.4372494648555\n",
      "El log-likelihood para la categoría 11 del artículo 56 es:-1017.2275272950595\n",
      "El log-likelihood para la categoría 12 del artículo 56 es:-971.3626159558844\n",
      "El log-likelihood para la categoría 13 del artículo 56 es:-1016.0414685280459\n",
      "El log-likelihood para la categoría 14 del artículo 56 es:-1009.6076429382994\n",
      "El log-likelihood para la categoría 15 del artículo 56 es:-1059.699660502911\n",
      "El log-likelihood para la categoría 16 del artículo 56 es:-997.5753575631601\n",
      "El log-likelihood para la categoría 17 del artículo 56 es:-1054.7278651689073\n",
      "El log-likelihood para la categoría 18 del artículo 56 es:-1046.320513332966\n",
      "El log-likelihood para la categoría 19 del artículo 56 es:-1025.6510593910227\n",
      "El Log-likelihood mayor pertenece a la categoría: 7\n"
     ]
    }
   ],
   "source": [
    "#Agarramos un artículo en particular y calculamos el Likelihood de cada una de las categorías\n",
    "n_art=56\n",
    "print(\"Vamos a calcular los Log-likelihood para cada categoría. Utilizaremos el artículo {}\".format(n_art))\n",
    "print(\"El artículo pertenece a la categoría {}, la cual es {}\".format(twenty_train[\"target\"][n_art], twenty_train[\"target_names\"][twenty_train[\"target\"][n_art] ] ))\n",
    "maxLogL=-float('inf')\n",
    "for i in range(20):\n",
    "    logL=np.dot((X_train_data.toarray()[n_art]),p_priori[i])+p_model[i]\n",
    "    print(\"El log-likelihood para la categoría {} del artículo {} es:{}\".format(i,n_art,logL))\n",
    "    if logL>maxLogL:\n",
    "        maxIdx=i\n",
    "        maxLogL=logL\n",
    "print(\"El Log-likelihood mayor pertenece a la categoría: {}\".format(maxIdx))"
   ]
  },
  {
   "cell_type": "code",
   "execution_count": 152,
   "metadata": {},
   "outputs": [
    {
     "name": "stdout",
     "output_type": "stream",
     "text": [
      "La predicción para el artículo 5 es:\n",
      "[16]\n"
     ]
    }
   ],
   "source": [
    "from sklearn.naive_bayes import MultinomialNB\n",
    "clf = MultinomialNB()\n",
    "clf.fit(X_train_data.toarray(), twenty_train[\"target\"])\n",
    "n_art=5\n",
    "print(\"La predicción para el artículo {} es:\".format(n_art))\n",
    "print(clf.predict(X_train_data.toarray()[n_art:n_art+1]))\n",
    "#twenty_train.target_names"
   ]
  },
  {
   "cell_type": "code",
   "execution_count": 153,
   "metadata": {},
   "outputs": [
    {
     "data": {
      "text/plain": [
       "['alt.atheism',\n",
       " 'comp.graphics',\n",
       " 'comp.os.ms-windows.misc',\n",
       " 'comp.sys.ibm.pc.hardware',\n",
       " 'comp.sys.mac.hardware',\n",
       " 'comp.windows.x',\n",
       " 'misc.forsale',\n",
       " 'rec.autos',\n",
       " 'rec.motorcycles',\n",
       " 'rec.sport.baseball',\n",
       " 'rec.sport.hockey',\n",
       " 'sci.crypt',\n",
       " 'sci.electronics',\n",
       " 'sci.med',\n",
       " 'sci.space',\n",
       " 'soc.religion.christian',\n",
       " 'talk.politics.guns',\n",
       " 'talk.politics.mideast',\n",
       " 'talk.politics.misc',\n",
       " 'talk.religion.misc']"
      ]
     },
     "execution_count": 153,
     "metadata": {},
     "output_type": "execute_result"
    }
   ],
   "source": [
    "twenty_train.target_names"
   ]
  },
  {
   "cell_type": "code",
   "execution_count": 150,
   "metadata": {},
   "outputs": [
    {
     "data": {
      "text/plain": [
       "'From: dfo@vttoulu.tko.vtt.fi (Foxvog Douglas)\\nSubject: Re: Rewording the Second Amendment (ideas)\\nOrganization: VTT\\nLines: 58\\n\\nIn article <1r1eu1$4t@transfer.stratus.com> cdt@sw.stratus.com (C. D. Tavares) writes:\\n>In article <1993Apr20.083057.16899@ousrvr.oulu.fi>, dfo@vttoulu.tko.vtt.fi (Foxvog Douglas) writes:\\n>> In article <1qv87v$4j3@transfer.stratus.com> cdt@sw.stratus.com (C. D. Tavares) writes:\\n>> >In article <C5n3GI.F8F@ulowell.ulowell.edu>, jrutledg@cs.ulowell.edu (John Lawrence Rutledge) writes:\\n>\\n>> >> The massive destructive power of many modern weapons, makes the\\n>> >> cost of an accidental or crimial usage of these weapons to great.\\n>> >> The weapons of mass destruction need to be in the control of\\n>> >> the government only.  Individual access would result in the\\n>> >> needless deaths of millions.  This makes the right of the people\\n>> >> to keep and bear many modern weapons non-existant.\\n\\n>> >Thanks for stating where you\\'re coming from.  Needless to say, I\\n>> >disagree on every count.\\n\\n>> You believe that individuals should have the right to own weapons of\\n>> mass destruction?  I find it hard to believe that you would support a \\n>> neighbor\\'s right to keep nuclear weapons, biological weapons, and nerve\\n>> gas on his/her property.  \\n\\n>> If we cannot even agree on keeping weapons of mass destruction out of\\n>> the hands of individuals, can there be any hope for us?\\n\\n>I don\\'t sign any blank checks.\\n\\nOf course.  The term must be rigidly defined in any bill.\\n\\n>When Doug Foxvog says \"weapons of mass destruction,\" he means CBW and\\n>nukes.  When Sarah Brady says \"weapons of mass destruction\" she means\\n>Street Sweeper shotguns and semi-automatic SKS rifles.  \\n\\nI doubt she uses this term for that.  You are using a quote allegedly\\nfrom her, can you back it up?\\n\\n>When John\\n>Lawrence Rutledge says \"weapons of mass destruction,\" and then immediately\\n>follows it with:\\n\\n>>> The US has thousands of people killed each year by handguns,\\n>>> this number can easily be reduced by putting reasonable restrictions\\n>>> on them.\\n\\n>...what does Rutledge mean by the term?\\n\\nI read the article as presenting first an argument about weapons of mass\\ndestruction (as commonly understood) and then switching to other topics.\\nThe first point evidently was to show that not all weapons should be\\nallowed, and then the later analysis was, given this understanding, to\\nconsider another class.\\n\\n>cdt@rocket.sw.stratus.com   --If you believe that I speak for my company,\\n>OR cdt@vos.stratus.com        write today for my special Investors\\' Packet...\\n\\n\\n\\n-- \\ndoug foxvog\\ndouglas.foxvog@vtt.fi\\n'"
      ]
     },
     "execution_count": 150,
     "metadata": {},
     "output_type": "execute_result"
    }
   ],
   "source": [
    "twenty_train."
   ]
  },
  {
   "cell_type": "code",
   "execution_count": 78,
   "metadata": {},
   "outputs": [
    {
     "name": "stdout",
     "output_type": "stream",
     "text": [
      "El porcentaje de artículos clasificados correctamente es: 84.63850097224677%\n"
     ]
    }
   ],
   "source": [
    "porc=sum(np.array(clf.predict(X_train_data.toarray()))==np.array(twenty_train[\"target\"]))/11314*100\n",
    "print(\"El porcentaje de artículos clasificados correctamente es: {}%\".format(porc))\n"
   ]
  },
  {
   "cell_type": "markdown",
   "metadata": {},
   "source": [
    "# Ejercicio de multinomialNB\n",
    "\n",
    "En el caso anterior, para medir la cantidad de artículos clasiicados correctamente se utilizó el mismo subconjunto del dataset que se utilizó para entrenar.\n",
    "\n",
    "Esta medida no es una medida del todo útil, ya que lo que interesa de un clasificador es su capacidad de clasificación de datos que no fueron utilizados para entrenar. Es por eso que se pide, para el clasificador entrenado con el subconjunto de training, cual es el porcentaje de artículos del subconjunto de testing clasificados correctamente. Comparar con el porcentaje anterior y explicar las diferencias.\n",
    "\n",
    "Para este ejercicio se puede utilizar el paquete multinomialNB que se encuentra dentro de naive-bayes en el paquete sklearn.\n",
    "\n",
    "** Importante: para aplicar count vectorizer al dataset de testing sin redefinir el vocabulario, se debe usar el método transform, ya que fit y fit_transform recalculan el vocabulario. **\n",
    "\n",
    "Se puede encontrar mas información del dataset en:\n",
    "\n",
    "http://scikit-learn.org/stable/datasets/twenty_newsgroups.html#newsgroups"
   ]
  },
  {
   "cell_type": "markdown",
   "metadata": {},
   "source": [
    "# Solución"
   ]
  },
  {
   "cell_type": "code",
   "execution_count": 79,
   "metadata": {},
   "outputs": [],
   "source": [
    "twenty_test = fetch_20newsgroups(subset='test', shuffle=True)"
   ]
  },
  {
   "cell_type": "code",
   "execution_count": 82,
   "metadata": {},
   "outputs": [
    {
     "data": {
      "text/plain": [
       "7532"
      ]
     },
     "execution_count": 82,
     "metadata": {},
     "output_type": "execute_result"
    }
   ],
   "source": [
    "twenty_test.data\n",
    "len(twenty_test.data)"
   ]
  },
  {
   "cell_type": "code",
   "execution_count": 124,
   "metadata": {},
   "outputs": [
    {
     "ename": "ValueError",
     "evalue": "'anything' is not in list",
     "output_type": "error",
     "traceback": [
      "\u001b[0;31m---------------------------------------------------------------------------\u001b[0m",
      "\u001b[0;31mValueError\u001b[0m                                Traceback (most recent call last)",
      "\u001b[0;32m<ipython-input-124-711e31bd08cb>\u001b[0m in \u001b[0;36m<module>\u001b[0;34m\u001b[0m\n\u001b[0;32m----> 1\u001b[0;31m \u001b[0mstopwords\u001b[0m\u001b[0;34m.\u001b[0m\u001b[0mwords\u001b[0m\u001b[0;34m(\u001b[0m\u001b[0;34m'english'\u001b[0m\u001b[0;34m)\u001b[0m\u001b[0;34m.\u001b[0m\u001b[0mindex\u001b[0m\u001b[0;34m(\u001b[0m\u001b[0;34m'anything'\u001b[0m\u001b[0;34m)\u001b[0m\u001b[0;34m\u001b[0m\u001b[0;34m\u001b[0m\u001b[0m\n\u001b[0m",
      "\u001b[0;31mValueError\u001b[0m: 'anything' is not in list"
     ]
    }
   ],
   "source": [
    "stopwords.words('english').index('anything')"
   ]
  },
  {
   "cell_type": "code",
   "execution_count": 126,
   "metadata": {},
   "outputs": [
    {
     "data": {
      "text/plain": [
       "'president'"
      ]
     },
     "execution_count": 126,
     "metadata": {},
     "output_type": "execute_result"
    }
   ],
   "source": [
    "lemmatizer.lemmatize('president',pos='v')"
   ]
  },
  {
   "cell_type": "code",
   "execution_count": 145,
   "metadata": {},
   "outputs": [
    {
     "data": {
      "text/plain": [
       "'presid'"
      ]
     },
     "execution_count": 145,
     "metadata": {},
     "output_type": "execute_result"
    }
   ],
   "source": [
    "stemmer.stem('president')"
   ]
  },
  {
   "cell_type": "code",
   "execution_count": 147,
   "metadata": {},
   "outputs": [
    {
     "data": {
      "text/plain": [
       "6279"
      ]
     },
     "execution_count": 147,
     "metadata": {},
     "output_type": "execute_result"
    }
   ],
   "source": [
    "count_vect_rec = CountVectorizer(max_df=0.6,min_df=10)\n",
    "count_vect_rec.fit(itemlist)\n",
    "count_vect_rec.vocabulary_['presid']"
   ]
  },
  {
   "cell_type": "code",
   "execution_count": 142,
   "metadata": {},
   "outputs": [],
   "source": [
    "X_train_data_rec=count_vect.fit_transform(articulos_filtrados) #Aprende el vocabulario y le asigna un código a cada palabra"
   ]
  },
  {
   "cell_type": "code",
   "execution_count": 143,
   "metadata": {},
   "outputs": [
    {
     "data": {
      "text/plain": [
       "(11314, 1930)"
      ]
     },
     "execution_count": 143,
     "metadata": {},
     "output_type": "execute_result"
    }
   ],
   "source": [
    "X_train_data_rec.shape"
   ]
  },
  {
   "cell_type": "code",
   "execution_count": 135,
   "metadata": {},
   "outputs": [
    {
     "ename": "AttributeError",
     "evalue": "'CountVectorizer' object has no attribute 'vocabulary_'",
     "output_type": "error",
     "traceback": [
      "\u001b[0;31m---------------------------------------------------------------------------\u001b[0m",
      "\u001b[0;31mAttributeError\u001b[0m                            Traceback (most recent call last)",
      "\u001b[0;32m<ipython-input-135-c8882cd2ecf4>\u001b[0m in \u001b[0;36m<module>\u001b[0;34m\u001b[0m\n\u001b[0;32m----> 1\u001b[0;31m \u001b[0mcount_vect_rec\u001b[0m\u001b[0;34m.\u001b[0m\u001b[0mvocabulary_\u001b[0m\u001b[0;34m\u001b[0m\u001b[0;34m\u001b[0m\u001b[0m\n\u001b[0m",
      "\u001b[0;31mAttributeError\u001b[0m: 'CountVectorizer' object has no attribute 'vocabulary_'"
     ]
    }
   ],
   "source": [
    "count_vect_rec.vocabulary_"
   ]
  },
  {
   "cell_type": "code",
   "execution_count": 148,
   "metadata": {},
   "outputs": [],
   "source": [
    "vocabulary_rec=count_vect_rec.get_feature_names()"
   ]
  },
  {
   "cell_type": "code",
   "execution_count": 149,
   "metadata": {},
   "outputs": [
    {
     "data": {
      "text/plain": [
       "'presid'"
      ]
     },
     "execution_count": 149,
     "metadata": {},
     "output_type": "execute_result"
    }
   ],
   "source": [
    "vocabulary_rec[6279]"
   ]
  },
  {
   "cell_type": "code",
   "execution_count": null,
   "metadata": {},
   "outputs": [],
   "source": []
  }
 ],
 "metadata": {
  "kernelspec": {
   "display_name": "Python 3",
   "language": "python",
   "name": "python3"
  },
  "language_info": {
   "codemirror_mode": {
    "name": "ipython",
    "version": 3
   },
   "file_extension": ".py",
   "mimetype": "text/x-python",
   "name": "python",
   "nbconvert_exporter": "python",
   "pygments_lexer": "ipython3",
   "version": "3.8.3"
  },
  "toc": {
   "colors": {
    "hover_highlight": "#DAA520",
    "navigate_num": "#000000",
    "navigate_text": "#333333",
    "running_highlight": "#FF0000",
    "selected_highlight": "#FFD700",
    "sidebar_border": "#EEEEEE",
    "wrapper_background": "#FFFFFF"
   },
   "moveMenuLeft": true,
   "nav_menu": {
    "height": "30px",
    "width": "252px"
   },
   "navigate_menu": true,
   "number_sections": true,
   "sideBar": true,
   "threshold": 4,
   "toc_cell": false,
   "toc_section_display": "block",
   "toc_window_display": false,
   "widenNotebook": false
  }
 },
 "nbformat": 4,
 "nbformat_minor": 4
}
