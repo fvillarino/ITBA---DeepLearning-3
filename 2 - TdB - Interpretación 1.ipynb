{
 "cells": [
  {
   "cell_type": "markdown",
   "metadata": {},
   "source": [
    "# Interpretación del Teorema de Bayes\n",
    "\n",
    "## Conocimiento a Priori vs Observaciones"
   ]
  },
  {
   "cell_type": "markdown",
   "metadata": {},
   "source": [
    "Los siguientes datos son ficticios:\n",
    "\n",
    "Usted es una mujer que ya cruzó la barrera de los 40 años. Supongamos que su médico de cabecera le sugiere que se haga una mamografía de rutina. Es lo que indica el protocolo. En principio, el médico le dice que solamente el 1 por ciento de mujeres de su edad tienen cáncer de mama, o sea una mujer de cada cien. --> $P(C)=0.01$ --> $P(NC)=0.99$ --> Prevalencia\n",
    "\n",
    "Pero le agrega otros datos que usted debe conocer. El test ¡no es infalible! ¿Qué quiere decir esto?\n",
    "\n",
    "Cuando se habla de mamografías, se sabe que el 80% de las mujeres que tienen cáncer de mama tendrán un resultado positivo. --> $P(+|C)=0.8$ --> Sensibilidad\n",
    "\n",
    "Leído de otra manera, esto es lo mismo que decir que al test se le escapan el 20% de las mujeres que se hacen el estudio pero que sí están enfermas. --> $P(-|C)=0.2$ --> Falsos Negativos\n",
    "\n",
    "Pero también se sabe (y esto es muy importante) que 9.6% de mujeres que no tienen cáncer de mama tendrán igualmente un resultado positivo de la mamografía. Es decir, el resultado será positivo pero la mujer no tiene cáncer. A este grupo se lo conoce con el nombre de falsos positivos. $P(+|NC)=0.096$ --> Falsos Positivos. $P(-|NC)=0.904$ --> Especificidad.  \n",
    "\n",
    "$$ FP = 1 - Especificidad $$\n",
    "\n",
    "Ahora sí, con toda esta información, usted se hace el test y cuando le entregan los resultados, lee que la mamografía resulta positiva.\n",
    "\n",
    "Pregunta: ¿cuál es la probabilidad de que usted tenga en realidad cáncer de mama? --> ¿$P(C|+)$? -->VPP (Valor Predictivo positivo)"
   ]
  },
  {
   "cell_type": "markdown",
   "metadata": {},
   "source": [
    "$$P(C|+)=\\frac{P(+|C)P(C)}{P(+)}=\\frac{P(+|C)P(C)}{P(+|C)P(C)+P(+|NC)P(NC)}=\\frac{0.8*0.01}{0.8*0.01+0.096*0.99}=0.078$$  \n",
    "\n",
    "$$VPP=\\frac{Sensibilidad x Prevalencia}{Sensibilidad x Prevalencia + (1-Especificidad) (1-Prevalencia)}$$\n",
    "\n",
    "* La prevalencia está asociada al distribución de probabilidades a priori. En particular es el valor de $P(C)$.\n",
    "\n",
    "¿Cómo puedo aumentar la certeza del diagnóstico?\n",
    "\n",
    "En este caso tirar mas veces la moneda significa realizarle mas estudios al paciente!  \n",
    "A medida que aumento la cantidad de estudios, tiene cada vez menos incidencia la prevalencia en el diagnóstico."
   ]
  }
 ],
 "metadata": {
  "kernelspec": {
   "display_name": "Python 3",
   "language": "python",
   "name": "python3"
  },
  "language_info": {
   "codemirror_mode": {
    "name": "ipython",
    "version": 3
   },
   "file_extension": ".py",
   "mimetype": "text/x-python",
   "name": "python",
   "nbconvert_exporter": "python",
   "pygments_lexer": "ipython3",
   "version": "3.8.3"
  }
 },
 "nbformat": 4,
 "nbformat_minor": 4
}
