{
 "cells": [
  {
   "cell_type": "code",
   "execution_count": 1,
   "metadata": {},
   "outputs": [],
   "source": [
    "# Estos dos comandos evitan que haya que hacer reload cada vez que se modifica un paquete\n",
    "%load_ext autoreload\n",
    "%autoreload 2\n",
    "%config InlineBackend.figure_format = 'retina'"
   ]
  },
  {
   "cell_type": "markdown",
   "metadata": {},
   "source": [
    "Anotaciones:\n",
    "Desde el lado de Estadistica querriamos ver que tan bueno se aproxima a una gaussiana. Desde ML que tan bien generaliza"
   ]
  },
  {
   "cell_type": "code",
   "execution_count": 2,
   "metadata": {},
   "outputs": [],
   "source": [
    "import pandas as pd\n",
    "import numpy as np\n",
    "from matplotlib import pyplot as plt\n",
    "import pandas as pd\n",
    "from collections import Counter\n",
    "from mpl_toolkits.mplot3d import Axes3D"
   ]
  },
  {
   "cell_type": "code",
   "execution_count": 3,
   "metadata": {},
   "outputs": [],
   "source": [
    "data = pd.read_csv('data/alturas-pesos-mils-train.csv')"
   ]
  },
  {
   "cell_type": "code",
   "execution_count": 4,
   "metadata": {},
   "outputs": [],
   "source": [
    "test = pd.read_csv('data/alturas-pesos-mils-test.csv')"
   ]
  },
  {
   "cell_type": "code",
   "execution_count": 5,
   "metadata": {},
   "outputs": [],
   "source": [
    "from BiVariateJoint import BiVariateJoint"
   ]
  },
  {
   "cell_type": "code",
   "execution_count": 6,
   "metadata": {},
   "outputs": [],
   "source": [
    "data_hombres = data.loc[data['Genero']=='Hombre'][['Peso','Altura']].values\n",
    "data_mujeres = data.loc[data['Genero']=='Mujer'][['Peso','Altura']].values"
   ]
  },
  {
   "cell_type": "code",
   "execution_count": 7,
   "metadata": {},
   "outputs": [],
   "source": [
    "from BiVariateJoint import get_class_prob"
   ]
  },
  {
   "cell_type": "code",
   "execution_count": 8,
   "metadata": {},
   "outputs": [],
   "source": [
    "step = 8\n",
    "maxs = np.round(data[['Peso','Altura']].values.max(axis = 0))\n",
    "mins = np.round(data[['Peso','Altura']].values.min(axis = 0))\n",
    "\n",
    "joint_hombres = BiVariateJoint(data_hombres, \n",
    "                               step_X = step, \n",
    "                               step_Y = step,\n",
    "                               mins = mins, \n",
    "                               maxs = maxs\n",
    "                              )\n",
    "joint_mujeres = BiVariateJoint(data_mujeres, \n",
    "                               step_X = step, \n",
    "                               step_Y = step,\n",
    "                               mins = mins, \n",
    "                               maxs = maxs)"
   ]
  },
  {
   "cell_type": "markdown",
   "metadata": {},
   "source": [
    "## Calculo a posteriori"
   ]
  },
  {
   "cell_type": "markdown",
   "metadata": {},
   "source": [
    "\\begin{equation}\n",
    "P(Hombre | X_1, X_2) = \\frac{P(X_1,X_2 | Hombre) P(Hombre)}{P(X_1,X_2)} \\\\\n",
    "\\end{equation}\n"
   ]
  },
  {
   "cell_type": "code",
   "execution_count": 9,
   "metadata": {},
   "outputs": [],
   "source": [
    "def get_class_prob(x1_data, x2_data, joint_class_1, joint_class_2):\n",
    "    prior_class_1 = joint_class_1.N/ (joint_class_1.N + joint_class_2.N)\n",
    "    prior_class_2 = joint_class_2.N/ (joint_class_1.N + joint_class_2.N)\n",
    "    likelihood_class_1 = joint_class_1.get_prob(x1_data, x2_data)\n",
    "    likelihood_class_2 = joint_class_2.get_prob(x1_data, x2_data)\n",
    "    total = likelihood_class_1*prior_class_1 + prior_class_2*likelihood_class_2\n",
    "    # Evita division por cero\n",
    "    total[total==0] = 1\n",
    "    p_class_1 = prior_class_1*likelihood_class_1/total\n",
    "    p_class_2 = prior_class_2*likelihood_class_2/total\n",
    "    # Las indeterminadas en 0.5\n",
    "    p_class_1[total==1] = 0.5\n",
    "    p_class_2[total==1] = 0.5\n",
    "    return p_class_1, p_class_2"
   ]
  },
  {
   "cell_type": "code",
   "execution_count": 10,
   "metadata": {},
   "outputs": [
    {
     "name": "stdout",
     "output_type": "stream",
     "text": [
      "0.9005\n"
     ]
    }
   ],
   "source": [
    "p_class_1, p_class_2 = get_class_prob(data['Peso'].values, data['Altura'].values, joint_hombres, joint_mujeres)\n",
    "acc_train_bayes = ((p_class_1>p_class_2) == (data['Genero'].values == 'Hombre')).sum()/len(data)\n",
    "print(acc_train_bayes)"
   ]
  },
  {
   "cell_type": "code",
   "execution_count": 11,
   "metadata": {},
   "outputs": [
    {
     "name": "stdout",
     "output_type": "stream",
     "text": [
      "0.9035\n"
     ]
    }
   ],
   "source": [
    "p_class_1, p_class_2 = get_class_prob(test['Peso'].values, test['Altura'].values, joint_hombres, joint_mujeres)\n",
    "acc_cv_bayes = ((p_class_1>p_class_2) == (test['Genero'].values == 'Hombre')).sum()/len(test)\n",
    "print(acc_cv_bayes)"
   ]
  },
  {
   "cell_type": "markdown",
   "metadata": {},
   "source": [
    "## Naive Bayes (Supongo independencia)"
   ]
  },
  {
   "cell_type": "code",
   "execution_count": 12,
   "metadata": {},
   "outputs": [],
   "source": [
    "marg_pesos_hombres,  marg_alturas_hombres = joint_hombres.get_Marginals()\n",
    "marg_pesos_mujeres,  marg_alturas_mujeres = joint_mujeres.get_Marginals()"
   ]
  },
  {
   "cell_type": "code",
   "execution_count": 13,
   "metadata": {},
   "outputs": [],
   "source": [
    "marg_pesos_hombres_rep, marg_alturas_hombres_rep = np.meshgrid(marg_pesos_hombres, marg_alturas_hombres)\n",
    "marg_pesos_mujeres_rep, marg_alturas_mujeres_rep = np.meshgrid(marg_pesos_mujeres, marg_alturas_mujeres)"
   ]
  },
  {
   "cell_type": "code",
   "execution_count": 14,
   "metadata": {},
   "outputs": [],
   "source": [
    "likelihood_indep_class_1 = (marg_pesos_hombres_rep*marg_alturas_hombres_rep).T\n",
    "likelihood_indep_class_2 = (marg_pesos_mujeres_rep*marg_alturas_mujeres_rep).T"
   ]
  },
  {
   "cell_type": "code",
   "execution_count": 15,
   "metadata": {},
   "outputs": [],
   "source": [
    "def get_class_prob_naive(x_data, y_data, joint_class_1, joint_class_2):\n",
    "    prior_class_1 = joint_class_1.N/ (joint_class_1.N + joint_class_2.N)\n",
    "    prior_class_2 = joint_class_2.N/ (joint_class_1.N + joint_class_2.N)\n",
    "    likelihood_class_1 = likelihood_indep_class_1[joint_class_1.data_to_index(x_data, y_data)] \n",
    "    likelihood_class_2 = likelihood_indep_class_2[joint_class_2.data_to_index(x_data, y_data)]\n",
    "    total = likelihood_class_1*prior_class_1 + prior_class_2*likelihood_class_2\n",
    "    # Evita division por cero\n",
    "    total[total==0] = 1\n",
    "    p_class_1 = prior_class_1*likelihood_class_1/total\n",
    "    p_class_2 = prior_class_2*likelihood_class_2/total\n",
    "    # Las indeterminadas en 0.5\n",
    "    p_class_1[total==1] = 0.5\n",
    "    p_class_2[total==1] = 0.5\n",
    "    return p_class_1, p_class_2"
   ]
  },
  {
   "cell_type": "code",
   "execution_count": 16,
   "metadata": {},
   "outputs": [
    {
     "name": "stdout",
     "output_type": "stream",
     "text": [
      "0.86925\n"
     ]
    }
   ],
   "source": [
    "p_class_1_nb, p_class_2_nb = get_class_prob_naive(data['Peso'].values, data['Altura'].values, joint_hombres, joint_mujeres)\n",
    "acc_train_nbayes = ((p_class_1_nb>p_class_2_nb) == (data['Genero'].values == 'Hombre')).sum()/len(data)\n",
    "print(acc_train_nbayes)"
   ]
  },
  {
   "cell_type": "code",
   "execution_count": 17,
   "metadata": {},
   "outputs": [
    {
     "name": "stdout",
     "output_type": "stream",
     "text": [
      "0.863\n"
     ]
    }
   ],
   "source": [
    "p_class_1_nb, p_class_2_nb = get_class_prob_naive(test['Peso'].values, test['Altura'].values, joint_hombres, joint_mujeres)\n",
    "acc_cv_nbayes = ((p_class_1_nb>p_class_2_nb) == (test['Genero'].values == 'Hombre')).sum()/len(test)\n",
    "print(acc_cv_nbayes)"
   ]
  },
  {
   "cell_type": "markdown",
   "metadata": {},
   "source": [
    "## Las clases en el plano"
   ]
  },
  {
   "cell_type": "code",
   "execution_count": 18,
   "metadata": {},
   "outputs": [],
   "source": [
    "X, Y = np.meshgrid(joint_hombres.X, joint_hombres.Y)\n",
    "Z = np.zeros(X.shape)\n",
    "Z_nb = np.zeros(X.shape)\n",
    "for i in range(X.shape[0]):\n",
    "    Z[i] = get_class_prob(X[i], Y[i], joint_hombres, joint_mujeres)[0]\n",
    "    Z_nb[i] = get_class_prob_naive(X[i], Y[i], joint_hombres, joint_mujeres)[0]"
   ]
  },
  {
   "cell_type": "code",
   "execution_count": 19,
   "metadata": {},
   "outputs": [],
   "source": [
    "%matplotlib qt\n",
    "from matplotlib.colors import ListedColormap\n",
    "fig = plt.figure(figsize=(20,10))\n",
    "ax = fig.gca()\n",
    "cm = plt.cm.RdBu\n",
    "cf = ax.contourf(X, Y, Z, 256, alpha=.8, vmin=0., vmax=1., cmap=cm)\n",
    "plt.colorbar(cf, ax=ax)\n",
    "ax.set_title('TRAIN: ' + str(np.round(acc_train_bayes*100)/100) + ' - CV:' + str(np.round(acc_cv_bayes*100)/100) +' - Step: '+str(step))\n",
    "ax.set_xlabel('Pesos [kgs]')\n",
    "ax.set_ylabel('Alturas [cms]')\n",
    "plt.show()"
   ]
  },
  {
   "cell_type": "code",
   "execution_count": 20,
   "metadata": {},
   "outputs": [],
   "source": [
    "%matplotlib qt\n",
    "fig = plt.figure(figsize=(20,10))\n",
    "ax = fig.gca()\n",
    "cm = plt.cm.RdBu\n",
    "cm_bright = ListedColormap(['#FF0000', '#0000FF'])\n",
    "cf = ax.contourf(X, Y, Z_nb, 256, alpha=.8, vmin=0., vmax=1., cmap=cm)\n",
    "plt.colorbar(cf, ax=ax)\n",
    "ax.set_title('TRAIN: ' + str(np.round(acc_train_nbayes*100)/100) + ' - CV:' + str(np.round(acc_cv_nbayes*100)/100) +' - Step: '+str(step))\n",
    "ax.set_xlabel('Pesos [kgs]')\n",
    "ax.set_ylabel('Alturas [cms]')\n",
    "plt.show()"
   ]
  },
  {
   "cell_type": "markdown",
   "metadata": {},
   "source": [
    "|Modelo| tipo| Train Acc| CV Acc|Comentarios\n",
    "|-| -| -| -|-|\n",
    "|Histogram - step 0.25|Bayes|0.97|0.68\n",
    "|Histogram - step 0.25|Naive Bayes|0.89|0.88\n",
    "|Histogram - step 0.5|Bayes|0.94|0.82\n",
    "|Histogram - step 0.5|Naive Bayes|0.89|0.88\n",
    "|Histogram - step 1|Bayes|0.92|0.90\n",
    "|Histogram - step 1|Naive Bayes|0.89|0.88\n",
    "|Histogram - step 4|Bayes|0.91|0.92| No generaliza por afuera de la zona de los puntos\n",
    "|Histogram - step 4|Naive Bayes|0.89|0.88\n",
    "|Histogram - step 8|Bayes|0.90|0.90\n",
    "|Histogram - step 8|Naive Bayes|0.87|0.86\n",
    "|Gaussian|Bayes|0.92|0.92|\n",
    "|Gaussian|Naive Bayes|0.89|0.89|\n",
    "|Regresion Logística|-|0.92|0.92|"
   ]
  },
  {
   "cell_type": "code",
   "execution_count": null,
   "metadata": {},
   "outputs": [],
   "source": []
  }
 ],
 "metadata": {
  "kernelspec": {
   "display_name": "Python 3",
   "language": "python",
   "name": "python3"
  },
  "language_info": {
   "codemirror_mode": {
    "name": "ipython",
    "version": 3
   },
   "file_extension": ".py",
   "mimetype": "text/x-python",
   "name": "python",
   "nbconvert_exporter": "python",
   "pygments_lexer": "ipython3",
   "version": "3.8.3"
  }
 },
 "nbformat": 4,
 "nbformat_minor": 4
}
