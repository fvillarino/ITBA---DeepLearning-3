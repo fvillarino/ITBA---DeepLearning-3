{
 "cells": [
  {
   "cell_type": "markdown",
   "metadata": {},
   "source": [
    "# Resolver este problema usando el sentido común\n",
    "\n",
    "Los siguientes datos son ficticios:\n",
    "\n",
    "Usted es una mujer que ya cruzó la barrera de los 40 años. Supongamos que su médico de cabecera le sugiere que se haga una mamografía de rutina. Es lo que indica el protocolo. En principio, el médico le dice que solamente el 1 por ciento de mujeres de su edad tienen cáncer de mama, o sea una mujer de cada cien.\n",
    "\n",
    "Pero le agrega otros datos que usted debe conocer. El test ¡no es infalible! ¿Qué quiere decir esto?\n",
    "\n",
    "Cuando se habla de mamografías, se sabe que el 80% de las mujeres que tienen cáncer de mama tendrán un resultado positivo. Leído de otra manera, esto es lo mismo que decir que al test se le escapan el 20% de las mujeres que se hacen el estudio pero que sí están enfermas. Es muy importante entender esto: hay 20% de mujeres que tienen este cáncer pero la mamografía no lo detectará. Estos casos se llaman falsos negativos.\n",
    "\n",
    "Pero también se sabe (y esto es muy importante) que 9.6% de mujeres que no tienen cáncer de mama tendrán igualmente un resultado positivo de la mamografía. Es decir, el resultado será positivo pero la mujer no tiene cáncer. A este grupo se lo conoce con el nombre de falsos positivos.\n",
    "\n",
    "Ahora sí, con toda esta información, usted se hace el test y cuando le entregan los resultados, lee que la mamografía resulta positiva.\n",
    "\n",
    "Pregunta: ¿cuál es la probabilidad de que usted tenga en realidad cáncer de mama?\n",
    "\n"
   ]
  },
  {
   "cell_type": "code",
   "execution_count": null,
   "metadata": {},
   "outputs": [],
   "source": []
  }
 ],
 "metadata": {
  "kernelspec": {
   "display_name": "Python (tensorflow-gpu)",
   "language": "python",
   "name": "tensorflow-gpu"
  },
  "language_info": {
   "codemirror_mode": {
    "name": "ipython",
    "version": 3
   },
   "file_extension": ".py",
   "mimetype": "text/x-python",
   "name": "python",
   "nbconvert_exporter": "python",
   "pygments_lexer": "ipython3",
   "version": "3.6.8"
  }
 },
 "nbformat": 4,
 "nbformat_minor": 2
}
